{
 "cells": [
  {
   "cell_type": "code",
   "execution_count": 1,
   "metadata": {},
   "outputs": [],
   "source": [
    "import pandas as pd\n",
    "import numpy as np, matplotlib.pyplot as plt\n",
    "from pprint import pprint\n",
    "from sklearn.model_selection import train_test_split\n",
    "from sklearn.ensemble import RandomForestClassifier\n",
    "from sklearn import preprocessing \n",
    "from sklearn.metrics import accuracy_score, mean_squared_error, confusion_matrix, classification_report\n",
    "from sklearn.model_selection import GridSearchCV\n",
    "import pickle"
   ]
  },
  {
   "cell_type": "markdown",
   "metadata": {},
   "source": [
    "In this work , we solve a reinforcement learning case study for Axa. We are asked to implement a Q-learning algorithm.\n",
    "The objective is to find a suitable strategy per customer contract to maximize Gain and minimize Cost according to the characteristics of the customer.\n",
    "\n",
    "In this part, we are going to build 3 predictive models: each one for each strategy. the model will predict if a strategy will succeed when applied to a customer. \n",
    "\n",
    "Those models will allow us to simulate customer reactions to strategy and to perform episodic simulations in the Q-learning setting.\n",
    "\n",
    "We tried a unique model for the 3 strategies with the strategy given as an input but we got poor result due to the fact that the model cannot find a correlation  between strategy and succes when all 3 are in the same historical data"
   ]
  },
  {
   "cell_type": "code",
   "execution_count": 11,
   "metadata": {},
   "outputs": [
    {
     "name": "stdout",
     "output_type": "stream",
     "text": [
      "   Day  A     B  C  D   E  F        G  H  I  ...  W         X   Y   Z     AA  \\\n",
      "0    3  0  book  0  4  32  2  10.0000  6  0  ...  5 -6.262788   4   0  poire   \n",
      "1    1  0  book  0  4  30  3   5.0000  5  0  ...  1 -6.176597  15  12  pomme   \n",
      "2    3  0  book  0  4  31  3  10.0000  6  0  ...  5 -6.309625   0  13  pomme   \n",
      "3    3  0   pen  1  4  32  3  10.0000  6  1  ...  1 -6.274018   1  13  prune   \n",
      "4    2  0  book  0  4  30  3  10.0000  6  0  ...  1 -6.270903   2  11  pomme   \n",
      "\n",
      "     BB  Gain  Cost  Strategy  Success  \n",
      "0  0.39  82.0  65.0         0        0  \n",
      "1  0.87  42.0  28.0         1        0  \n",
      "2  1.00  94.0  78.0         2        0  \n",
      "3  0.79  53.0  37.0         0        0  \n",
      "4  0.87  56.0  55.0         1        0  \n",
      "\n",
      "[5 rows x 33 columns]\n",
      "   Day  A     B  C  D   E  F     G  H  I  ...  W         X   Y   Z     AA  \\\n",
      "0    3  0  book  0  4  32  2  10.0  6  0  ...  5 -6.262788   4   0  poire   \n",
      "1    1  0  book  0  4  30  3   5.0  5  0  ...  1 -6.176597  15  12  pomme   \n",
      "2    3  0  book  0  4  31  3  10.0  6  0  ...  5 -6.309625   0  13  pomme   \n",
      "3    3  0   pen  1  4  32  3  10.0  6  1  ...  1 -6.274018   1  13  prune   \n",
      "4    2  0  book  0  4  30  3  10.0  6  0  ...  1 -6.270903   2  11  pomme   \n",
      "\n",
      "     BB  Gain  Cost  Strategy  Success  \n",
      "0  0.39  82.0  65.0         0        0  \n",
      "1  0.87  42.0  28.0         1        0  \n",
      "2  1.00  94.0  78.0         2        0  \n",
      "3  0.79  53.0  37.0         0        0  \n",
      "4  0.87  56.0  55.0         1        0  \n",
      "\n",
      "[5 rows x 33 columns]\n"
     ]
    }
   ],
   "source": [
    "# Importing Data\n",
    "\n",
    "train=pd.read_csv('C:/Users/Caliméromaric/Downloads/train.csv',  sep=';' , decimal=',') \n",
    "\n",
    "test = pd.read_csv('C:/Users/Caliméromaric/Downloads/test.csv',  sep=';' , thousands=',') \n",
    "\n",
    "# Lets see how the data looks like\n",
    "print (train.head())\n",
    "\n",
    "# Data Preprocessing : \n",
    "\n",
    "#removing the dot decimal separator \n",
    "train['G'] = [x.replace(',', '.') for x in train['G']]\n",
    "\n",
    "# converting the column to float type\n",
    "train['G'] =train['G'].astype(float)\n",
    "\n",
    "# Lets see how the data looks like now\n",
    "print (train.head())"
   ]
  },
  {
   "cell_type": "code",
   "execution_count": 12,
   "metadata": {},
   "outputs": [
    {
     "data": {
      "text/plain": [
       "Day           int64\n",
       "A             int64\n",
       "B            object\n",
       "C             int64\n",
       "D             int64\n",
       "E             int64\n",
       "F             int64\n",
       "G           float64\n",
       "H             int64\n",
       "I             int64\n",
       "J             int64\n",
       "K             int64\n",
       "L             int64\n",
       "M             int64\n",
       "N             int64\n",
       "O             int64\n",
       "P             int64\n",
       "Q             int64\n",
       "R             int64\n",
       "S             int64\n",
       "T           float64\n",
       "U             int64\n",
       "V             int64\n",
       "W             int64\n",
       "X           float64\n",
       "Y             int64\n",
       "Z             int64\n",
       "AA           object\n",
       "BB          float64\n",
       "Gain        float64\n",
       "Cost        float64\n",
       "Strategy      int64\n",
       "Success       int64\n",
       "dtype: object"
      ]
     },
     "execution_count": 12,
     "metadata": {},
     "output_type": "execute_result"
    }
   ],
   "source": [
    "# Making sure all columns are from the correct type\n",
    "train.dtypes"
   ]
  },
  {
   "cell_type": "code",
   "execution_count": 13,
   "metadata": {},
   "outputs": [],
   "source": [
    "# Copying the data in a working df and encoding categorical columns\n",
    "df = train.copy()\n",
    "df[['AA', 'B'  ] ] = df[['AA', 'B'  ] ].apply(preprocessing.LabelEncoder().fit_transform) # We dont need one hot encoding for Random Forest\n",
    "\n",
    "\n"
   ]
  },
  {
   "cell_type": "markdown",
   "metadata": {},
   "source": [
    "70 % of of customers responds negatively to the strategy applied. We have an imbalanced class problem. A workaround is to remove a part of the Success= 0  data to rebalance the classes. (We tried without doing so and we obtained a lazy model with 70 % accuracy always predicting 0)"
   ]
  },
  {
   "cell_type": "code",
   "execution_count": 17,
   "metadata": {},
   "outputs": [],
   "source": [
    "\n",
    "# Rebalancing classes \n",
    "\n",
    "df.drop(df[df.Success == 0].sample(n=1500, replace=False).index, inplace = True)"
   ]
  },
  {
   "cell_type": "markdown",
   "metadata": {},
   "source": [
    "We choose a random forest model because it usually performs well on structured data and it is relatively simple ( compared to Grad Boost for ex ) . We could have tried other models , like xGboost or SVM to fetch a better predictive performance\n",
    "\n",
    "We manually tuned the hyperparameters. We dont want a fully grown tree to prevent overfitting . We control this by limiting min_samples_split and min_samples_leaf. Since we do not have a lot of data, we do not want those values to be too high."
   ]
  },
  {
   "cell_type": "code",
   "execution_count": 22,
   "metadata": {},
   "outputs": [
    {
     "name": "stdout",
     "output_type": "stream",
     "text": [
      "              precision    recall  f1-score   support\n",
      "\n",
      "           0       0.86      0.92      0.89       213\n",
      "           1       0.90      0.84      0.87       190\n",
      "\n",
      "    accuracy                           0.88       403\n",
      "   macro avg       0.88      0.88      0.88       403\n",
      "weighted avg       0.88      0.88      0.88       403\n",
      "\n",
      "              precision    recall  f1-score   support\n",
      "\n",
      "           0       0.96      0.99      0.97       466\n",
      "           1       0.98      0.95      0.97       350\n",
      "\n",
      "    accuracy                           0.97       816\n",
      "   macro avg       0.97      0.97      0.97       816\n",
      "weighted avg       0.97      0.97      0.97       816\n",
      "\n"
     ]
    }
   ],
   "source": [
    "# Getting the clients which received strategy 0\n",
    "\n",
    "df0 = df[df.Strategy == 0]\n",
    "X_train, X_test = train_test_split( df0, test_size=0.33, random_state=42)\n",
    "Y_train = X_train.Success       \n",
    "Y_test= X_test.Success       \n",
    "X_train=X_train.drop(columns=['Success', 'Day'])\n",
    "X_test= X_test.drop(columns=['Success', 'Day'])\n",
    "\n",
    "#Fit the classifer\n",
    "clf0 = RandomForestClassifier(n_estimators=100, random_state=5, min_samples_split =5, min_samples_leaf= 5)\n",
    "clf0.fit(X_train, Y_train)\n",
    "# Model Performance\n",
    "print(classification_report(Y_test, clf0.predict(X_test)))\n",
    "print(classification_report(Y_train, clf0.predict(X_train)))\n",
    "\n"
   ]
  },
  {
   "cell_type": "markdown",
   "metadata": {},
   "source": [
    "Lets see if we can do a quick hyperparemeter grid search to get a better model"
   ]
  },
  {
   "cell_type": "code",
   "execution_count": 23,
   "metadata": {},
   "outputs": [
    {
     "name": "stdout",
     "output_type": "stream",
     "text": [
      "{'bootstrap': [True, False],\n",
      " 'max_depth': [10, 20, 30, 40, 50, 60, 70, 80, 90, 100, 110, None],\n",
      " 'max_features': ['auto', 'sqrt'],\n",
      " 'min_samples_leaf': [1, 2, 4],\n",
      " 'min_samples_split': [2, 5, 10],\n",
      " 'n_estimators': [200, 400, 600, 800, 1000, 1200, 1400, 1600, 1800, 2000]}\n"
     ]
    }
   ],
   "source": [
    "# Number of trees in random forest\n",
    "n_estimators = [int(x) for x in np.linspace(start = 200, stop = 2000, num = 10)]\n",
    "# Number of features to consider at every split\n",
    "max_features = ['auto', 'sqrt']\n",
    "# Maximum number of levels in tree\n",
    "max_depth = [int(x) for x in np.linspace(10, 110, num = 11)]\n",
    "max_depth.append(None)\n",
    "# Minimum number of samples required to split a node\n",
    "min_samples_split = [2, 5, 10]\n",
    "# Minimum number of samples required at each leaf node\n",
    "min_samples_leaf = [1, 2, 4]\n",
    "# Method of selecting samples for training each tree\n",
    "bootstrap = [True, False]\n",
    "# Create the random grid\n",
    "random_grid = {'n_estimators': n_estimators,\n",
    "               'max_features': max_features,\n",
    "               'max_depth': max_depth,\n",
    "               'min_samples_split': min_samples_split,\n",
    "               'min_samples_leaf': min_samples_leaf,\n",
    "               'bootstrap': bootstrap}\n",
    "pprint(random_grid)"
   ]
  },
  {
   "cell_type": "code",
   "execution_count": 24,
   "metadata": {},
   "outputs": [
    {
     "name": "stdout",
     "output_type": "stream",
     "text": [
      "Fitting 3 folds for each of 432 candidates, totalling 1296 fits\n"
     ]
    },
    {
     "name": "stderr",
     "output_type": "stream",
     "text": [
      "[Parallel(n_jobs=-1)]: Using backend LokyBackend with 4 concurrent workers.\n",
      "[Parallel(n_jobs=-1)]: Done  33 tasks      | elapsed:    3.7s\n",
      "[Parallel(n_jobs=-1)]: Done 154 tasks      | elapsed:   10.8s\n",
      "[Parallel(n_jobs=-1)]: Done 357 tasks      | elapsed:   25.8s\n",
      "[Parallel(n_jobs=-1)]: Done 640 tasks      | elapsed:   43.8s\n",
      "[Parallel(n_jobs=-1)]: Done 1005 tasks      | elapsed:  1.1min\n",
      "[Parallel(n_jobs=-1)]: Done 1296 out of 1296 | elapsed:  1.5min finished\n"
     ]
    },
    {
     "data": {
      "text/plain": [
       "{'bootstrap': True,\n",
       " 'max_depth': 20,\n",
       " 'max_features': 15,\n",
       " 'min_samples_leaf': 3,\n",
       " 'min_samples_split': 8,\n",
       " 'n_estimators': 100}"
      ]
     },
     "execution_count": 24,
     "metadata": {},
     "output_type": "execute_result"
    }
   ],
   "source": [
    "#Lets do  a  quick  Hypeparemeter grid search\n",
    "\n",
    "\n",
    "param_grid = {\n",
    "    'bootstrap': [True],\n",
    "    'max_depth': [30, 20, None],\n",
    "    'max_features': ['auto', 15, 10 ],\n",
    "    'min_samples_leaf': [3, 4, 5, 8],\n",
    "    'min_samples_split': [3, 4, 5, 8],\n",
    "    'n_estimators': [50, 100, 200]\n",
    "}\n",
    "# Create a based model\n",
    "rf = RandomForestClassifier()\n",
    "# Instantiate the grid search model\n",
    "grid_search = GridSearchCV(estimator = rf, param_grid = param_grid, \n",
    "                          cv = 3, n_jobs = -1, verbose = 2)\n",
    "\n",
    "\n",
    "# Fit the grid search to the data\n",
    "grid_search.fit(X_train, Y_train)\n",
    "grid_search.best_params_"
   ]
  },
  {
   "cell_type": "code",
   "execution_count": 26,
   "metadata": {},
   "outputs": [
    {
     "data": {
      "text/plain": [
       "0.8615196078431372"
      ]
     },
     "execution_count": 26,
     "metadata": {},
     "output_type": "execute_result"
    }
   ],
   "source": [
    "# We dont get a significative improvement\n",
    "grid_search.best_score_"
   ]
  },
  {
   "cell_type": "markdown",
   "metadata": {},
   "source": [
    "We could perform a much thorough grid search to fetch some performance.\n",
    "\n",
    "Lets take a look at the predictive power of features. We can see that the most correlated features with the target,  are the most important ones according to the model. We could use feature importance to drop the less important columns to get a more efficient model"
   ]
  },
  {
   "cell_type": "code",
   "execution_count": 135,
   "metadata": {},
   "outputs": [
    {
     "data": {
      "text/plain": [
       "Success     1.000000\n",
       "Gain        0.179610\n",
       "X           0.133489\n",
       "W           0.124921\n",
       "O           0.104448\n",
       "Cost        0.095264\n",
       "J           0.093367\n",
       "B           0.091292\n",
       "BB          0.074687\n",
       "Q           0.071069\n",
       "U           0.061319\n",
       "C           0.060346\n",
       "N           0.055089\n",
       "S           0.053192\n",
       "I           0.019970\n",
       "A           0.018241\n",
       "K           0.015627\n",
       "Y           0.010040\n",
       "V           0.004288\n",
       "H          -0.002897\n",
       "F          -0.004325\n",
       "E          -0.019452\n",
       "R          -0.024923\n",
       "T          -0.035759\n",
       "G          -0.041207\n",
       "L          -0.042949\n",
       "M          -0.056476\n",
       "D          -0.057183\n",
       "P          -0.071429\n",
       "AA         -0.105378\n",
       "Z          -0.106038\n",
       "Strategy         NaN\n",
       "Name: Success, dtype: float64"
      ]
     },
     "execution_count": 135,
     "metadata": {},
     "output_type": "execute_result"
    }
   ],
   "source": [
    "# Correlation with Success \n",
    "df0[df0.columns[1:]].corr()['Success'][:].sort_values(ascending=False)\n"
   ]
  },
  {
   "cell_type": "code",
   "execution_count": 133,
   "metadata": {},
   "outputs": [
    {
     "data": {
      "image/png": "[encoded data removed]",
      "text/plain": [
       "<Figure size 576x1440 with 1 Axes>"
      ]
     },
     "metadata": {
      "needs_background": "light"
     },
     "output_type": "display_data"
    }
   ],
   "source": [
    "# Feature Importance according to Random Forest \n",
    "feat_imp = pd.DataFrame({'importance':clf.feature_importances_})    \n",
    "feat_imp['feature'] = X_train.columns\n",
    "feat_imp.sort_values(by='importance', ascending=True, inplace=True)\n",
    "\n",
    "feat_imp = feat_imp.set_index('feature', drop=True)\n",
    "feat_imp.plot.barh(title= 'RandomForest Importance', figsize=(8,20))\n",
    "plt.xlabel('Feature Importance Score')\n",
    "plt.show()\n"
   ]
  },
  {
   "cell_type": "code",
   "execution_count": 148,
   "metadata": {},
   "outputs": [
    {
     "name": "stdout",
     "output_type": "stream",
     "text": [
      "              precision    recall  f1-score   support\n",
      "\n",
      "           0       0.90      0.93      0.91       210\n",
      "           1       0.89      0.85      0.87       149\n",
      "\n",
      "    accuracy                           0.90       359\n",
      "   macro avg       0.90      0.89      0.89       359\n",
      "weighted avg       0.90      0.90      0.90       359\n",
      "\n",
      "              precision    recall  f1-score   support\n",
      "\n",
      "           0       0.97      1.00      0.98       417\n",
      "           1       0.99      0.96      0.98       309\n",
      "\n",
      "    accuracy                           0.98       726\n",
      "   macro avg       0.98      0.98      0.98       726\n",
      "weighted avg       0.98      0.98      0.98       726\n",
      "\n"
     ]
    }
   ],
   "source": [
    "# Getting the clents which received strategy 1\n",
    "\n",
    "df1 = df[df.Strategy == 1]\n",
    "\n",
    "#\n",
    "X_train, X_test = train_test_split( df1, test_size=0.33, random_state=42)\n",
    "Y_train = X_train.Success       \n",
    "Y_test= X_test.Success       \n",
    "X_train=X_train.drop(columns=['Success', 'Day'])\n",
    "X_test= X_test.drop(columns=['Success', 'Day'])\n",
    "\n",
    "\n",
    "#Fit the classifer\n",
    "clf1 = RandomForestClassifier(n_estimators=100, random_state=5, min_samples_split =5, min_samples_leaf= 5)\n",
    "clf1.fit(X_train, Y_train)\n",
    "print(classification_report(Y_test, clf1.predict(X_test)))\n",
    "print(classification_report(Y_train, clf1.predict(X_train)))"
   ]
  },
  {
   "cell_type": "code",
   "execution_count": 150,
   "metadata": {},
   "outputs": [
    {
     "name": "stdout",
     "output_type": "stream",
     "text": [
      "              precision    recall  f1-score   support\n",
      "\n",
      "           0       0.78      0.93      0.85       229\n",
      "           1       0.88      0.65      0.74       167\n",
      "\n",
      "    accuracy                           0.81       396\n",
      "   macro avg       0.83      0.79      0.80       396\n",
      "weighted avg       0.82      0.81      0.81       396\n",
      "\n",
      "              precision    recall  f1-score   support\n",
      "\n",
      "           0       0.94      0.99      0.96       503\n",
      "           1       0.97      0.89      0.93       299\n",
      "\n",
      "    accuracy                           0.95       802\n",
      "   macro avg       0.96      0.94      0.95       802\n",
      "weighted avg       0.95      0.95      0.95       802\n",
      "\n"
     ]
    }
   ],
   "source": [
    "# Getting the clents which received strategy 2\n",
    "\n",
    "df2 = df[df.Strategy == 2]\n",
    "\n",
    "#\n",
    "X_train, X_test = train_test_split( df2, test_size=0.33, random_state=42)\n",
    "Y_train = X_train.Success       \n",
    "Y_test= X_test.Success       \n",
    "X_train=X_train.drop(columns=['Success', 'Day'])\n",
    "X_test= X_test.drop(columns=['Success', 'Day'])\n",
    "\n",
    "\n",
    "#Fit the classifer\n",
    "clf2 = RandomForestClassifier(n_estimators=100, random_state=5, min_samples_split =5, min_samples_leaf= 5)\n",
    "clf2.fit(X_train, Y_train)\n",
    "print(classification_report(Y_test, clf2.predict(X_test)))\n",
    "print(classification_report(Y_train, clf2.predict(X_train)))"
   ]
  },
  {
   "cell_type": "code",
   "execution_count": 155,
   "metadata": {},
   "outputs": [],
   "source": [
    "# Save the models \n",
    "with open('clf0.pickle', 'wb') as handle:\n",
    "    pickle.dump(clf0, handle, protocol=pickle.HIGHEST_PROTOCOL)\n",
    "\n",
    "with open('clf1.pickle', 'wb') as handle:\n",
    "    pickle.dump(clf1, handle, protocol=pickle.HIGHEST_PROTOCOL)\n",
    "\n",
    "with open('clf2.pickle', 'wb') as handle:\n",
    "    pickle.dump(clf2, handle, protocol=pickle.HIGHEST_PROTOCOL)\n"
   ]
  },
  {
   "cell_type": "code",
   "execution_count": null,
   "metadata": {},
   "outputs": [],
   "source": [
    "#Some descriptive statistics\n",
    "\n",
    "print(len(df[df.Success == 0])/len(df.Success))\n",
    "\n",
    "print(len(train[train.Success == 0])/len(train.Success))\n",
    "\n",
    "#print(len(train.where((train.Success == 0) & (train.Strategy == 0) ))/len(train.Success))\n",
    "#print(len(train.where((train.Success == 0) & (train.Strategy == 1) ))/len(train.Success))\n",
    "\n",
    "print(len(train[train.Strategy == 0])/len(train.Success))\n",
    "print(len(train[train.Day == 1])/len(train.Success))\n",
    "print(len(train[train.Day == 2])/len(train.Success))\n",
    "print(len(train[train.Strategy == 1])/len(train.Success))\n",
    "\n"
   ]
  }
 ],
 "metadata": {
  "kernelspec": {
   "display_name": "Python 3",
   "language": "python",
   "name": "python3"
  },
  "language_info": {
   "codemirror_mode": {
    "name": "ipython",
    "version": 3
   },
   "file_extension": ".py",
   "mimetype": "text/x-python",
   "name": "python",
   "nbconvert_exporter": "python",
   "pygments_lexer": "ipython3",
   "version": "3.7.6"
  }
 },
 "nbformat": 4,
 "nbformat_minor": 4
}
